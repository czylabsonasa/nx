{
 "cells": [
  {
   "cell_type": "markdown",
   "metadata": {},
   "source": [
    "## implement and test union-find in julia"
   ]
  },
  {
   "cell_type": "code",
   "execution_count": 47,
   "metadata": {},
   "outputs": [
    {
     "data": {
      "text/plain": [
       "make_ufw (generic function with 1 method)"
      ]
     },
     "execution_count": 47,
     "metadata": {},
     "output_type": "execute_result"
    }
   ],
   "source": [
    "function make_uf(N)\n",
    "  root=fill(-1,N)\n",
    "# compressing\n",
    "  function find_(i)\n",
    "    ans=i\n",
    "    while root[ans]!=(-1)\n",
    "      ans=root[ans]\n",
    "    end\n",
    "    while root[i]!=(-1)\n",
    "      root[i],i=ans,root[i]\n",
    "    end\n",
    "    ans\n",
    "  end\n",
    "# simple union  \n",
    "  function union_(i,j)\n",
    "    i,j=find_(i),find_(j)\n",
    "#     i=find_(i)\n",
    "#     j=find_(j)\n",
    "    if i!=j\n",
    "      root[j]=i\n",
    "      return 1\n",
    "    end\n",
    "    0\n",
    "  end\n",
    "  find_,union_\n",
    "end\n",
    "\n",
    "\n",
    "function make_ufw(N)\n",
    "  root=fill(-1,N)\n",
    "  w=ones(Int,N)\n",
    "# compressing\n",
    "  function find_(i)\n",
    "    ans=i\n",
    "    while root[ans]!=(-1)\n",
    "      ans=root[ans]\n",
    "    end\n",
    "    while root[i]!=(-1)\n",
    "      root[i],i=ans,root[i]\n",
    "    end\n",
    "    ans\n",
    "  end\n",
    "# simple union  \n",
    "  function union_(i,j)\n",
    "    i,j=find_(i),find_(j)\n",
    "    if i!=j\n",
    "      root[j]=i\n",
    "      return 1\n",
    "    end\n",
    "    0\n",
    "  end\n",
    "  find_,union_\n",
    "end"
   ]
  },
  {
   "cell_type": "markdown",
   "metadata": {},
   "source": [
    "### small test"
   ]
  },
  {
   "cell_type": "code",
   "execution_count": 48,
   "metadata": {},
   "outputs": [
    {
     "name": "stdout",
     "output_type": "stream",
     "text": [
      "[3, 3, 3, 3, 5, 6, 6, 6, 9, 9]\n"
     ]
    }
   ],
   "source": [
    "fnd,uni=make_uf(10)\n",
    "uni(1,2)\n",
    "uni(3,4)\n",
    "uni(3,1)\n",
    "uni(9,10)\n",
    "uni(7,8)\n",
    "uni(6,7)\n",
    "println(fnd.(1:10))"
   ]
  },
  {
   "cell_type": "markdown",
   "metadata": {},
   "source": [
    "## implement tic()"
   ]
  },
  {
   "cell_type": "code",
   "execution_count": 49,
   "metadata": {},
   "outputs": [
    {
     "data": {
      "text/plain": [
       "make_tic (generic function with 1 method)"
      ]
     },
     "execution_count": 49,
     "metadata": {},
     "output_type": "execute_result"
    }
   ],
   "source": [
    "function make_tic()\n",
    "  s=time()\n",
    "  function tic()\n",
    "    delta=time()-s\n",
    "    s+=delta\n",
    "    delta\n",
    "  end\n",
    "  tic\n",
    "end"
   ]
  },
  {
   "cell_type": "markdown",
   "metadata": {},
   "source": [
    "### test tic()"
   ]
  },
  {
   "cell_type": "code",
   "execution_count": 50,
   "metadata": {},
   "outputs": [
    {
     "name": "stdout",
     "output_type": "stream",
     "text": [
      "1.1059589385986328\n"
     ]
    }
   ],
   "source": [
    "tic=make_tic()\n",
    "tic()\n",
    "sleep(1.1)\n",
    "println(tic())"
   ]
  },
  {
   "cell_type": "markdown",
   "metadata": {},
   "source": [
    "## large test"
   ]
  },
  {
   "cell_type": "code",
   "execution_count": 69,
   "metadata": {},
   "outputs": [
    {
     "name": "stdout",
     "output_type": "stream",
     "text": [
      "5.194272041320801"
     ]
    }
   ],
   "source": [
    "tic()\n",
    "N=100000\n",
    "M=3000000\n",
    "m_edges=zeros(Int,2,M)\n",
    "for i in 1:M\n",
    "  while true\n",
    "    x,y=rand(1:N,2)\n",
    "    if x!=y\n",
    "      m_edges[:,i]=[x,y]\n",
    "      break\n",
    "    end\n",
    "  end\n",
    "end\n",
    "print(tic())\n"
   ]
  },
  {
   "cell_type": "code",
   "execution_count": 77,
   "metadata": {},
   "outputs": [
    {
     "name": "stdout",
     "output_type": "stream",
     "text": [
      "1\n",
      "uf 4.3459320068359375\n"
     ]
    }
   ],
   "source": [
    "tic()\n",
    "_,uni=make_uf(N)\n",
    "NC=N\n",
    "for i in 1:M\n",
    "  x,y=m_edges[:,i]\n",
    "  NC-=uni(x,y)\n",
    "end  \n",
    "println(NC)  \n",
    "println(\"uf \",tic())\n"
   ]
  },
  {
   "cell_type": "markdown",
   "metadata": {},
   "source": [
    "### function version"
   ]
  },
  {
   "cell_type": "code",
   "execution_count": 75,
   "metadata": {},
   "outputs": [
    {
     "data": {
      "text/plain": [
       "use_uf (generic function with 1 method)"
      ]
     },
     "execution_count": 75,
     "metadata": {},
     "output_type": "execute_result"
    }
   ],
   "source": [
    "function use_uf(n,m,edges)\n",
    "  _,uni=make_uf(n)\n",
    "  nc=n\n",
    "  for i in 1:m\n",
    "    x,y=edges[:,i]\n",
    "    nc-=uni(x,y)\n",
    "  end  \n",
    "  nc\n",
    "end  "
   ]
  },
  {
   "cell_type": "code",
   "execution_count": 76,
   "metadata": {},
   "outputs": [
    {
     "name": "stdout",
     "output_type": "stream",
     "text": [
      "1\n",
      "0.4988088607788086\n"
     ]
    }
   ],
   "source": [
    "tic()\n",
    "println(use_uf(N,M,m_edges))\n",
    "println(tic())"
   ]
  },
  {
   "cell_type": "code",
   "execution_count": null,
   "metadata": {},
   "outputs": [],
   "source": []
  }
 ],
 "metadata": {
  "kernelspec": {
   "display_name": "Julia 1.1.1",
   "language": "julia",
   "name": "julia-1.1"
  },
  "language_info": {
   "file_extension": ".jl",
   "mimetype": "application/julia",
   "name": "julia",
   "version": "1.1.1"
  },
  "toc": {
   "base_numbering": 1,
   "nav_menu": {},
   "number_sections": true,
   "sideBar": true,
   "skip_h1_title": true,
   "title_cell": "Table of Contents",
   "title_sidebar": "Contents",
   "toc_cell": false,
   "toc_position": {},
   "toc_section_display": true,
   "toc_window_display": true
  }
 },
 "nbformat": 4,
 "nbformat_minor": 2
}
