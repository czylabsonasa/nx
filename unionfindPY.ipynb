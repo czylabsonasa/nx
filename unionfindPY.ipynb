{
 "cells": [
  {
   "cell_type": "markdown",
   "metadata": {},
   "source": [
    "## what is union find?"
   ]
  },
  {
   "cell_type": "markdown",
   "metadata": {},
   "source": [
    "## implement and test union-find in python"
   ]
  },
  {
   "cell_type": "markdown",
   "metadata": {},
   "source": [
    "## imports"
   ]
  },
  {
   "cell_type": "code",
   "execution_count": 17,
   "metadata": {},
   "outputs": [],
   "source": [
    "import numpy as np\n",
    "from time import time as m_time\n"
   ]
  },
  {
   "cell_type": "markdown",
   "metadata": {},
   "source": [
    "## union-find\n",
    "\n",
    "simple union-find implementation\n",
    "\n",
    "testing some variants:\n",
    "1. make_uf: list based\n",
    "1. make_ufw: list+rank admin\n",
    "1. make_ufnp: numpy int array\n",
    "1. make_ufex: external root"
   ]
  },
  {
   "cell_type": "code",
   "execution_count": 46,
   "metadata": {
    "code_folding": [
     19,
     41,
     62
    ]
   },
   "outputs": [],
   "source": [
    "def make_uf(N):\n",
    "  root=[term]*N\n",
    "# compressing\n",
    "  def find_(i):\n",
    "    ans=i\n",
    "    while root[ans]!=(-1):\n",
    "      ans=root[ans]\n",
    "    while root[i]!=(-1):\n",
    "      root[i],i=ans,root[i]\n",
    "    return ans\n",
    "# simple union  \n",
    "  def union_(i,j):\n",
    "    i,j=find_(i),find_(j)\n",
    "    if i!=j:\n",
    "      root[j]=i\n",
    "      return 1\n",
    "    return 0\n",
    "  return find_,union_\n",
    "\n",
    "def make_ufw(N):\n",
    "  root=[-1]*N\n",
    "  w=[1]*N\n",
    "# compressing\n",
    "  def find_(i):\n",
    "    ans=i\n",
    "    while root[ans]!=(-1):\n",
    "      ans=root[ans]\n",
    "    while root[i]!=(-1):\n",
    "      root[i],i=ans,root[i]\n",
    "    return ans\n",
    "# simple union  \n",
    "  def union_(i,j):\n",
    "    i,j=find_(i),find_(j)\n",
    "    if i!=j:\n",
    "      if w[j]>w[i]: i,j=j,i\n",
    "      root[j]=i\n",
    "      w[i],w[j]=w[i]+w[j],0\n",
    "      return 1\n",
    "    return 0\n",
    "  return find_,union_\n",
    "\n",
    "def make_ufnp(N):\n",
    "  root=np.full(N,-1)\n",
    "# compressing\n",
    "  def find_(i):\n",
    "    nonlocal root\n",
    "    ans=i\n",
    "    while root[ans]+1>0:\n",
    "      ans=root[ans]\n",
    "    while root[i]+1>0:\n",
    "      root[i],i=ans,root[i]\n",
    "    return ans\n",
    "# simple union  \n",
    "  def union_(i,j):\n",
    "    nonlocal root\n",
    "    i,j=find_(i),find_(j)\n",
    "    if i!=j:\n",
    "      root[j]=i\n",
    "      return 1\n",
    "    return 0\n",
    "  return find_,union_\n",
    "\n",
    "def make_ufex(root):\n",
    "# compressing\n",
    "  def find_(i):\n",
    "    ans=i\n",
    "    while root[ans]>=0:\n",
    "      ans=root[ans]\n",
    "    while root[i]>=0:\n",
    "      root[i],i=ans,root[i]\n",
    "    return ans\n",
    "# simple union  \n",
    "  def union_(i,j):\n",
    "    i,j=find_(i),find_(j)\n",
    "    if i!=j:\n",
    "      root[j]=i\n",
    "      return 1\n",
    "    return 0\n",
    "  return find_,union_\n",
    "\n"
   ]
  },
  {
   "cell_type": "markdown",
   "metadata": {},
   "source": [
    "### small test"
   ]
  },
  {
   "cell_type": "code",
   "execution_count": 49,
   "metadata": {},
   "outputs": [
    {
     "name": "stdout",
     "output_type": "stream",
     "text": [
      "0   1\n",
      "0   0\n",
      "[0, 0, 0, 3, 3]\n"
     ]
    },
    {
     "data": {
      "text/plain": [
       "[0, 0, 0, 0, 0]"
      ]
     },
     "execution_count": 49,
     "metadata": {},
     "output_type": "execute_result"
    }
   ],
   "source": [
    "# small tests\n",
    "find,uni=make_uf(5)\n",
    "print(find(0),\" \",find(1))\n",
    "uni(0,1)\n",
    "print(find(0),\" \",find(1))\n",
    "uni(1,2)\n",
    "uni(3,4)\n",
    "print([find(i) for i in range(5)])\n",
    "uni(2,3)\n",
    "[find(i) for i in range(5)]\n"
   ]
  },
  {
   "cell_type": "markdown",
   "metadata": {},
   "source": [
    "## measure exec time"
   ]
  },
  {
   "cell_type": "code",
   "execution_count": 32,
   "metadata": {},
   "outputs": [
    {
     "name": "stdout",
     "output_type": "stream",
     "text": [
      "0.020572662353515625\n",
      "0.2789781093597412\n"
     ]
    }
   ],
   "source": [
    "N=5000000\n",
    "s=m_time()\n",
    "a=[0]*N\n",
    "print(m_time()-s)\n",
    "\n",
    "s=m_time()\n",
    "b=[0 for i in range(N)] # several times slower\n",
    "print(m_time()-s)\n",
    "a,b=[],[]"
   ]
  },
  {
   "cell_type": "markdown",
   "metadata": {},
   "source": [
    "### a simple tic() function"
   ]
  },
  {
   "cell_type": "code",
   "execution_count": 21,
   "metadata": {},
   "outputs": [
    {
     "data": {
      "text/plain": [
       "function"
      ]
     },
     "execution_count": 21,
     "metadata": {},
     "output_type": "execute_result"
    }
   ],
   "source": [
    "def make_tic():\n",
    "  s0=m_time()\n",
    "  def tic():\n",
    "    nonlocal s0\n",
    "    delta=m_time()-s0\n",
    "    s0+=delta\n",
    "    return delta\n",
    "  return tic\n",
    "tic=make_tic()\n",
    "type(tic)"
   ]
  },
  {
   "cell_type": "markdown",
   "metadata": {},
   "source": [
    "#### testing tic()"
   ]
  },
  {
   "cell_type": "code",
   "execution_count": 22,
   "metadata": {},
   "outputs": [
    {
     "name": "stdout",
     "output_type": "stream",
     "text": [
      "8.535385131835938e-05\n",
      "0.0005965232849121094\n",
      "0.00015687942504882812\n",
      "0.0041046142578125\n"
     ]
    }
   ],
   "source": [
    "tic()\n",
    "a=list(range(10))\n",
    "print(tic())\n",
    "a=list(range(100))\n",
    "print(tic())\n",
    "a=list(range(1000))\n",
    "print(tic())\n",
    "a=list(range(100000))\n",
    "print(tic())\n",
    "\n"
   ]
  },
  {
   "cell_type": "markdown",
   "metadata": {},
   "source": [
    "## testing tuple assignment"
   ]
  },
  {
   "cell_type": "code",
   "execution_count": 23,
   "metadata": {},
   "outputs": [
    {
     "name": "stdout",
     "output_type": "stream",
     "text": [
      "[0, 10, 2]\n",
      "[1, 1, 2]\n"
     ]
    }
   ],
   "source": [
    "# eloszor a jobb oldal (balrol-jobbra), majd a baloldal\n",
    "a=list(range(3))\n",
    "i=0\n",
    "i,a[i]=i+1,a[i]+10\n",
    "print(a)\n",
    "\n",
    "i=0\n",
    "a=list(range(3))\n",
    "a[i],i=a[i]+1,i+1\n",
    "print(a)\n"
   ]
  },
  {
   "cell_type": "markdown",
   "metadata": {},
   "source": [
    "## slices"
   ]
  },
  {
   "cell_type": "code",
   "execution_count": 24,
   "metadata": {},
   "outputs": [
    {
     "name": "stdout",
     "output_type": "stream",
     "text": [
      "[9, 8, 7, 6, 5, 4, 3, 2, 1, 0]\n",
      "[0, 1, 2]\n"
     ]
    }
   ],
   "source": [
    "a=list(range(10))\n",
    "print(a[-1::-1])\n",
    "print(a[:3])"
   ]
  },
  {
   "cell_type": "markdown",
   "metadata": {},
   "source": [
    "## random numbers"
   ]
  },
  {
   "cell_type": "code",
   "execution_count": 25,
   "metadata": {},
   "outputs": [
    {
     "name": "stdout",
     "output_type": "stream",
     "text": [
      "None\n",
      "0\n",
      "0.025010755222666936\n"
     ]
    }
   ],
   "source": [
    "import random as rnd\n",
    "print(rnd.seed(42)) # \n",
    "print(rnd.randint(0,1))\n",
    "print(rnd.random())\n",
    "\n",
    "#rnd.sample(range(10),10)"
   ]
  },
  {
   "cell_type": "markdown",
   "metadata": {},
   "source": [
    "### random sample"
   ]
  },
  {
   "cell_type": "code",
   "execution_count": 60,
   "metadata": {},
   "outputs": [
    {
     "name": "stdout",
     "output_type": "stream",
     "text": [
      "0.8718576431274414\n"
     ]
    }
   ],
   "source": [
    "tic()\n",
    "N=100000\n",
    "M=100000\n",
    "m_edges=[]\n",
    "m_pop=range(N)\n",
    "E=range(M)\n",
    "for i in E:\n",
    "  m_edges.append(rnd.sample(m_pop,2))\n",
    "print(tic())\n",
    "\n"
   ]
  },
  {
   "cell_type": "markdown",
   "metadata": {},
   "source": [
    "## union-find: a larger test"
   ]
  },
  {
   "cell_type": "code",
   "execution_count": 64,
   "metadata": {},
   "outputs": [
    {
     "name": "stdout",
     "output_type": "stream",
     "text": [
      "16271\n",
      "uf -1 0.3198552131652832\n",
      "16271\n",
      "uf None 0.2973799705505371\n"
     ]
    }
   ],
   "source": [
    "tic()\n",
    "_,uni=make_uf(N)\n",
    "NC=N\n",
    "for e in m_edges:\n",
    "  x,y=e\n",
    "  NC-=uni(x,y)\n",
    "print(NC)  \n",
    "print(\"uf -1\",tic())\n",
    "\n",
    "tic()\n",
    "_,u2=make_uf(N)\n",
    "NC=N\n",
    "for e in m_edges:\n",
    "  x,y=e\n",
    "  NC-=u2(x,y)\n",
    "print(NC)  \n",
    "print(\"uf None\",tic())\n",
    "\n",
    "\n",
    "# tic()\n",
    "# _,u3=make_ufnp(N)\n",
    "# NC=N\n",
    "# for e in m_edges:\n",
    "#   x,y=e\n",
    "#   NC-=u3(x,y)\n",
    "# print(NC)  \n",
    "# print(\"ufnp\",tic())\n",
    "\n",
    "# tic()\n",
    "# _,u4=make_ufex(np.full(N,-1))\n",
    "# NC=N\n",
    "# for e in m_edges:\n",
    "#   x,y=e\n",
    "#   NC-=u4(x,y)\n",
    "# print(NC)  \n",
    "# print(\"ufex\",tic())\n",
    "\n"
   ]
  },
  {
   "cell_type": "markdown",
   "metadata": {},
   "source": [
    "## class based union-find"
   ]
  },
  {
   "cell_type": "code",
   "execution_count": 43,
   "metadata": {
    "code_folding": []
   },
   "outputs": [],
   "source": [
    "# Python3 port of http://algs4.cs.princeton.edu/code/edu/princeton/cs/algs4/UF.java.html\n",
    "class DisjointSet:\n",
    "  \"\"\"\n",
    "  Execution:    python disjoint_set.py < input.txt\n",
    "  Data files:   http://algs4.cs.princeton.edu/15uf/tinyUF.txt\n",
    "  http://algs4.cs.princeton.edu/15uf/mediumUF.txt\n",
    "  http://algs4.cs.princeton.edu/15uf/largeUF.txt\n",
    "\n",
    "  Weighted quick-union by rank with path compression.\n",
    "\n",
    "  % python disjoint_set.py < tinyUF.txt\n",
    "  4 3\n",
    "  3 8\n",
    "  6 5\n",
    "  9 4\n",
    "  2 1\n",
    "  5 0\n",
    "  7 2\n",
    "  6 1\n",
    "  2 components\n",
    "  \"\"\"\n",
    "  def __init__(self, n):\n",
    "    \"\"\"Initializes an empty union–find data structure with n sites\n",
    "    0 through n-1. Each site is initially in its own component.\n",
    "\n",
    "    Args:\n",
    "    n (int): the number of sites\n",
    "    \"\"\"\n",
    "    # number of components\n",
    "    self.count = n \n",
    "    # parent[i] = parent of i\n",
    "    self.parent = list(range(n))\n",
    "    # rank[i] = rank of subtree rooted at i (never more than 31)\n",
    "    self.rank = [0] * n  \n",
    "\n",
    "  def find(self, p):\n",
    "    \"\"\"Returns the component identifier for the component \n",
    "    containing site p.\n",
    "\n",
    "    Args:\n",
    "    p (int): the integer representing one site\n",
    "\n",
    "    Returns:\n",
    "    int. the component identifier for the component containing site p\n",
    "    \"\"\"\n",
    "    #self.validate(p)\n",
    "    if p != self.parent[p]:\n",
    "      self.parent[p] = self.find(self.parent[p]) # path compression\n",
    "    return self.parent[p]\n",
    "\n",
    "\n",
    "  def connected(self, p, q):\n",
    "    \"\"\"Returns true if the the two sites are in the same component.\n",
    "\n",
    "    Args:\n",
    "    p (int): the integer representing one site\n",
    "    q (int): the integer representing the other site\n",
    "\n",
    "    Returns:\n",
    "    Boolean. true if the two sites p and q are in the same component;\n",
    "    false otherwise.\n",
    "    \"\"\"\n",
    "    return self.find(p) == self.find(q)\n",
    "\n",
    "  def union(self, p, q):\n",
    "    \"\"\"Merges the component containing site p with the \n",
    "    the component containing site q.\n",
    "\n",
    "    Args:\n",
    "    p (int): the integer representing one site\n",
    "    q (int): the integer representing the other site\n",
    "    \"\"\"\n",
    "    rootP = self.find(p)\n",
    "    rootQ = self.find(q)\n",
    "    if rootP == rootQ: return\n",
    "\n",
    "    # make root of smaller rank point to root of larger rank\n",
    "    if   self.rank[rootP] < self.rank[rootQ]: self.parent[rootP] = rootQ\n",
    "    elif self.rank[rootP] > self.rank[rootQ]: self.parent[rootQ] = rootP\n",
    "    else:\n",
    "      self.parent[rootQ] = rootP\n",
    "      self.rank[rootP] += 1\n",
    "    self.count -= 1\n",
    "\n",
    "  def validate(self, p):\n",
    "    \"\"\"validate that p is a valid index\"\"\"\n",
    "    n = len(self.parent)\n",
    "    if p < 0 or p >= n:\n",
    "      raise IndexError(\"index {} is not between 0 and {}\".format(p, n - 1)) \n",
    "\n"
   ]
  },
  {
   "cell_type": "markdown",
   "metadata": {},
   "source": [
    "### test it"
   ]
  },
  {
   "cell_type": "code",
   "execution_count": 44,
   "metadata": {},
   "outputs": [
    {
     "name": "stdout",
     "output_type": "stream",
     "text": [
      "1 components\n",
      "7.0779712200164795\n"
     ]
    }
   ],
   "source": [
    "tic()\n",
    "ds = DisjointSet(N)\n",
    "for x in m_edges:\n",
    "  p, q = x\n",
    "  if ds.connected(p, q):\n",
    "    continue\n",
    "  ds.union(p, q)\n",
    "#print(p, q)\n",
    "print(ds.count, \"components\")\n",
    "print(tic())"
   ]
  },
  {
   "cell_type": "code",
   "execution_count": null,
   "metadata": {},
   "outputs": [],
   "source": []
  }
 ],
 "metadata": {
  "kernelspec": {
   "display_name": "Python 3",
   "language": "python",
   "name": "python3"
  },
  "language_info": {
   "codemirror_mode": {
    "name": "ipython",
    "version": 3
   },
   "file_extension": ".py",
   "mimetype": "text/x-python",
   "name": "python",
   "nbconvert_exporter": "python",
   "pygments_lexer": "ipython3",
   "version": "3.7.3"
  },
  "toc": {
   "base_numbering": 1,
   "nav_menu": {
    "height": "268px",
    "width": "198px"
   },
   "number_sections": true,
   "sideBar": true,
   "skip_h1_title": true,
   "title_cell": "Table of Contents",
   "title_sidebar": "Contents",
   "toc_cell": false,
   "toc_position": {
    "height": "calc(100% - 180px)",
    "left": "10px",
    "top": "150px",
    "width": "183.467px"
   },
   "toc_section_display": true,
   "toc_window_display": true
  }
 },
 "nbformat": 4,
 "nbformat_minor": 2
}
