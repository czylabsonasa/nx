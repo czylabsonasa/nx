{
 "cells": [
  {
   "cell_type": "markdown",
   "metadata": {},
   "source": [
    "## networkx overview\n",
    "\n",
    "[graphviz doc](http://www.graphviz.org/doc/info/attrs.html)"
   ]
  },
  {
   "cell_type": "code",
   "execution_count": 1,
   "metadata": {},
   "outputs": [],
   "source": [
    "import pydot"
   ]
  },
  {
   "cell_type": "code",
   "execution_count": 40,
   "metadata": {},
   "outputs": [],
   "source": [
    "nx_abra = pydot.Dot( graph_type='digraph' )\n",
    "nodes=[]\n",
    "edges=[]\n",
    "node0=pydot.Node(\"networkx\",shape=\"box\")\n",
    "nodes.append(node0)\n",
    "node00=pydot.Node(\"Graph()\")\n",
    "nodes.append(node00)\n",
    "edges.append(pydot.Edge( node0, node00))\n",
    "\n",
    "tmp=\"\"\"add_,delete_\\nnode,nodes_from\\nedge,edges_from()\"\"\"\n",
    "node000=pydot.Node(tmp,shape=\"plaintext\")\n",
    "nodes.append(node000)\n",
    "edges.append(pydot.Edge( node00, node000))\n",
    "\n",
    "tmp=\"clear()\"\n",
    "node001=pydot.Node(tmp,shape=\"plaintext\")\n",
    "nodes.append(node001)\n",
    "edges.append(pydot.Edge( node00, node001))\n",
    "\n",
    "tmp=\"number_of\\nnodes,edges()\"\n",
    "node002=pydot.Node(tmp,shape=\"plaintext\")\n",
    "nodes.append(node002)\n",
    "edges.append(pydot.Edge( node00, node002))\n",
    "\n",
    "\n",
    "tmp=\"nodes,edges\\nadj,degree\"\n",
    "node003=pydot.Node(tmp,shape=\"plaintext\")\n",
    "nodes.append(node003)\n",
    "edges.append(pydot.Edge( node00, node003))\n",
    "\n",
    "\n",
    "tmp=\"\"\"path_graph()\n",
    "petersen_graph()\n",
    "tutte_graph()\n",
    "sedgewick_maze_graph()\n",
    "tetrahedral_graph()\n",
    "erdos_renyi_graph(,)\n",
    "watts_strogatz_graph(,,)\n",
    "barabasi_albert_graph(,)\n",
    "random_lobster(,,)\n",
    "\"\"\"\n",
    "node01=pydot.Node(tmp,shape=\"plaintext\");nodes.append(node01)\n",
    "edges.append(pydot.Edge( node0, node01))\n",
    "\n",
    "\n",
    "for it in nodes:\n",
    "  nx_abra.add_node(it)\n",
    "\n",
    "for it in edges:\n",
    "  nx_abra.add_edge(it)\n",
    "\n",
    "nx_abra.write_png('nx_abra.pdf')        #simpler to see the changes                   \n"
   ]
  },
  {
   "cell_type": "markdown",
   "metadata": {},
   "source": [
    "---! [](nx_abra.png)"
   ]
  },
  {
   "cell_type": "code",
   "execution_count": null,
   "metadata": {},
   "outputs": [],
   "source": []
  },
  {
   "cell_type": "code",
   "execution_count": null,
   "metadata": {},
   "outputs": [],
   "source": []
  }
 ],
 "metadata": {
  "kernelspec": {
   "display_name": "Python 3",
   "language": "python",
   "name": "python3"
  },
  "language_info": {
   "codemirror_mode": {
    "name": "ipython",
    "version": 3
   },
   "file_extension": ".py",
   "mimetype": "text/x-python",
   "name": "python",
   "nbconvert_exporter": "python",
   "pygments_lexer": "ipython3",
   "version": "3.7.3"
  },
  "toc": {
   "base_numbering": 1,
   "nav_menu": {},
   "number_sections": true,
   "sideBar": true,
   "skip_h1_title": true,
   "title_cell": "Table of Contents",
   "title_sidebar": "Contents",
   "toc_cell": false,
   "toc_position": {},
   "toc_section_display": true,
   "toc_window_display": false
  }
 },
 "nbformat": 4,
 "nbformat_minor": 2
}
