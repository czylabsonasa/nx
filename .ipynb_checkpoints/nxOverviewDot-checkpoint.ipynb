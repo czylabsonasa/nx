{
 "cells": [
  {
   "cell_type": "markdown",
   "metadata": {},
   "source": [
    "## networkx overviewDOT\n",
    "\n",
    "[graphviz doc](http://www.graphviz.org/doc/info/attrs.html)<br>\n",
    "nem olyan egyszerű"
   ]
  },
  {
   "cell_type": "code",
   "execution_count": 2,
   "metadata": {},
   "outputs": [],
   "source": [
    "import pydot"
   ]
  },
  {
   "cell_type": "code",
   "execution_count": 37,
   "metadata": {},
   "outputs": [],
   "source": [
    "m_nodes,m_edges=[],[]\n",
    "def m_add_node(node):\n",
    "  m_nodes.append(node)\n",
    "  return len(m_nodes)-1\n",
    "def m_add_edge(s,t):\n",
    "  m_edges.append(pydot.Edge(m_nodes[s],m_nodes[t]))\n",
    "  return len(m_edges)-1\n",
    "\n",
    "\n",
    "nx_abra = pydot.Dot( graph_type='digraph' )\n",
    "\n",
    "n0=m_add_node(pydot.Node(\"networkx\",shape=\"box\"))\n",
    "n00=m_add_node(pydot.Node(\"Graph()\"))\n",
    "m_add_edge(n0,n00)\n",
    "\n",
    "tmp=\"\"\"modify\n",
    "add_node(),add_nodes_from()\n",
    "delete_node(),delete_nodes_from()\n",
    "also for edge,edges_from\n",
    "clear()\n",
    "\"\"\"\n",
    "n000=m_add_node(pydot.Node(tmp,shape=\"plaintext\"))\n",
    "m_add_edge(n00, n000)\n",
    "\n",
    "tmp=\"\"\"query\n",
    "number_of_nodes()\n",
    "number_of_edges()\n",
    "nodes\n",
    "edges\n",
    "adj\n",
    "degree\n",
    "\"\"\"\n",
    "n001=m_add_node(pydot.Node(tmp,shape=\"plaintext\"))\n",
    "m_add_edge(n00, n001)\n",
    "\n",
    "\n",
    "tmp=\"\"\"generators\n",
    "path_graph()\n",
    "petersen_graph()\n",
    "tutte_graph()\n",
    "sedgewick_maze_graph()\n",
    "tetrahedral_graph()\n",
    "erdos_renyi_graph(,)\n",
    "watts_strogatz_graph(,,)\n",
    "barabasi_albert_graph(,)\n",
    "random_lobster(,,)\n",
    "\"\"\"\n",
    "n01=m_add_node(pydot.Node(tmp,shape=\"plaintext\"))\n",
    "m_add_edge(n0, n01)\n",
    "\n",
    "\n",
    "for it in m_nodes:\n",
    "  nx_abra.add_node(it)\n",
    "\n",
    "for it in m_edges:\n",
    "  nx_abra.add_edge(it)\n",
    "\n",
    "nx_abra.write_png('nx_abra.svg')        #simpler to see the changes                   \n"
   ]
  },
  {
   "cell_type": "markdown",
   "metadata": {},
   "source": [
    "![](nx_abra.svg)"
   ]
  },
  {
   "cell_type": "code",
   "execution_count": null,
   "metadata": {},
   "outputs": [],
   "source": []
  },
  {
   "cell_type": "code",
   "execution_count": null,
   "metadata": {},
   "outputs": [],
   "source": []
  }
 ],
 "metadata": {
  "kernelspec": {
   "display_name": "Python 3",
   "language": "python",
   "name": "python3"
  },
  "language_info": {
   "codemirror_mode": {
    "name": "ipython",
    "version": 3
   },
   "file_extension": ".py",
   "mimetype": "text/x-python",
   "name": "python",
   "nbconvert_exporter": "python",
   "pygments_lexer": "ipython3",
   "version": "3.7.3"
  },
  "toc": {
   "base_numbering": 1,
   "nav_menu": {},
   "number_sections": true,
   "sideBar": true,
   "skip_h1_title": true,
   "title_cell": "Table of Contents",
   "title_sidebar": "Contents",
   "toc_cell": false,
   "toc_position": {},
   "toc_section_display": true,
   "toc_window_display": false
  }
 },
 "nbformat": 4,
 "nbformat_minor": 2
}
