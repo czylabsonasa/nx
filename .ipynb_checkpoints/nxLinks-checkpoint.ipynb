{
 "cells": [
  {
   "cell_type": "markdown",
   "metadata": {},
   "source": [
    "# some useful networkx links "
   ]
  },
  {
   "cell_type": "markdown",
   "metadata": {},
   "source": [
    "## official docs\n",
    "### [networkx@github](https://github.com/networkx)\n",
    "### [examples@networkx](https://networkx.github.io/documentation/stable/auto_examples/index.html)+\n"
   ]
  },
  {
   "cell_type": "markdown",
   "metadata": {},
   "source": [
    "## intro\n",
    "### [small intro](https://www.python-course.eu/networkx.php)\n",
    "### [intro@Salvatore Scellato](https://www.cl.cam.ac.uk/~cm542/teaching/2011/stna-pdfs/stna-lecture11.pdf)+\n",
    "### [Drew Conway@github](https://github.com/drewconway/NetworkX_Intro_Materials)+\n",
    "### [intro@Joy Payton](https://education.arcus.chop.edu/intro-to-networkx/)\n",
    "### [tutorial@Evan Rosen@snap](http://snap.stanford.edu/class/cs224w-2011/nx_tutorial/nx_tutorial.pdf)\n",
    "### [intro@dominodatalab](https://blog.dominodatalab.com/social-network-analysis-with-networkx/)"
   ]
  },
  {
   "cell_type": "markdown",
   "metadata": {},
   "source": [
    "## other (misc,advanced)\n",
    "### [fast and dirty intro@Lynn Cherny](https://www.slideshare.net/arnicas/a-quick-and-dirty-intro-to-networkx-and-d3)\n",
    "### [chinese postman@Andrew Brooks](https://www.datacamp.com/community/tutorials/networkx-python-graph-tutorial)\n",
    "### [SAS related@Falko Schulz](https://github.com/sassoftware/sas-viya-programming/blob/master/python/network-analysis/Hartford%20Drug%20User%20Social%20Network%20Analysis%20using%20CAS%20HyperGroup.ipynb)\n",
    "### [clustering@www.learndatasci.com](https://www.learndatasci.com/tutorials/k-means-clustering-algorithms-python-intro/)+\n",
    "### [mihai@spyhce](https://spyhce.com/blog/python-networkx-library)+"
   ]
  },
  {
   "cell_type": "code",
   "execution_count": null,
   "metadata": {},
   "outputs": [],
   "source": []
  }
 ],
 "metadata": {
  "kernelspec": {
   "display_name": "Python 3",
   "language": "python",
   "name": "python3"
  },
  "language_info": {
   "codemirror_mode": {
    "name": "ipython",
    "version": 3
   },
   "file_extension": ".py",
   "mimetype": "text/x-python",
   "name": "python",
   "nbconvert_exporter": "python",
   "pygments_lexer": "ipython3",
   "version": "3.7.3"
  },
  "toc": {
   "base_numbering": 1,
   "nav_menu": {},
   "number_sections": true,
   "sideBar": true,
   "skip_h1_title": true,
   "title_cell": "Table of Contents",
   "title_sidebar": "Contents",
   "toc_cell": false,
   "toc_position": {},
   "toc_section_display": true,
   "toc_window_display": true
  }
 },
 "nbformat": 4,
 "nbformat_minor": 2
}
